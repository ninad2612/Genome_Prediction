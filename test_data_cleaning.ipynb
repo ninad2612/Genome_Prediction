{
 "cells": [
  {
   "cell_type": "code",
   "execution_count": 1,
   "metadata": {},
   "outputs": [],
   "source": [
    "import pandas as pd \n",
    "data = pd.read_csv('/home/vedant/Genome/Genome_Prediction/Selected_data/test_genetic_disorders.csv')"
   ]
  },
  {
   "cell_type": "code",
   "execution_count": 2,
   "metadata": {},
   "outputs": [
    {
     "name": "stdout",
     "output_type": "stream",
     "text": [
      "9463\n"
     ]
    }
   ],
   "source": [
    "print(len(data))"
   ]
  },
  {
   "cell_type": "code",
   "execution_count": 3,
   "metadata": {},
   "outputs": [
    {
     "data": {
      "text/html": [
       "<div>\n",
       "<style scoped>\n",
       "    .dataframe tbody tr th:only-of-type {\n",
       "        vertical-align: middle;\n",
       "    }\n",
       "\n",
       "    .dataframe tbody tr th {\n",
       "        vertical-align: top;\n",
       "    }\n",
       "\n",
       "    .dataframe thead th {\n",
       "        text-align: right;\n",
       "    }\n",
       "</style>\n",
       "<table border=\"1\" class=\"dataframe\">\n",
       "  <thead>\n",
       "    <tr style=\"text-align: right;\">\n",
       "      <th></th>\n",
       "      <th>Patient_Age</th>\n",
       "      <th>No_of_abortion</th>\n",
       "    </tr>\n",
       "  </thead>\n",
       "  <tbody>\n",
       "    <tr>\n",
       "      <th>count</th>\n",
       "      <td>9290.000000</td>\n",
       "      <td>9290.000000</td>\n",
       "    </tr>\n",
       "    <tr>\n",
       "      <th>mean</th>\n",
       "      <td>7.048439</td>\n",
       "      <td>-20.393757</td>\n",
       "    </tr>\n",
       "    <tr>\n",
       "      <th>std</th>\n",
       "      <td>4.338143</td>\n",
       "      <td>41.992386</td>\n",
       "    </tr>\n",
       "    <tr>\n",
       "      <th>min</th>\n",
       "      <td>0.000000</td>\n",
       "      <td>-99.000000</td>\n",
       "    </tr>\n",
       "    <tr>\n",
       "      <th>25%</th>\n",
       "      <td>3.000000</td>\n",
       "      <td>0.000000</td>\n",
       "    </tr>\n",
       "    <tr>\n",
       "      <th>50%</th>\n",
       "      <td>7.000000</td>\n",
       "      <td>1.000000</td>\n",
       "    </tr>\n",
       "    <tr>\n",
       "      <th>75%</th>\n",
       "      <td>11.000000</td>\n",
       "      <td>3.000000</td>\n",
       "    </tr>\n",
       "    <tr>\n",
       "      <th>max</th>\n",
       "      <td>14.000000</td>\n",
       "      <td>4.000000</td>\n",
       "    </tr>\n",
       "  </tbody>\n",
       "</table>\n",
       "</div>"
      ],
      "text/plain": [
       "       Patient_Age  No_of_abortion\n",
       "count  9290.000000     9290.000000\n",
       "mean      7.048439      -20.393757\n",
       "std       4.338143       41.992386\n",
       "min       0.000000      -99.000000\n",
       "25%       3.000000        0.000000\n",
       "50%       7.000000        1.000000\n",
       "75%      11.000000        3.000000\n",
       "max      14.000000        4.000000"
      ]
     },
     "execution_count": 3,
     "metadata": {},
     "output_type": "execute_result"
    }
   ],
   "source": [
    "data.describe()"
   ]
  },
  {
   "cell_type": "code",
   "execution_count": 4,
   "metadata": {},
   "outputs": [
    {
     "name": "stdout",
     "output_type": "stream",
     "text": [
      "<class 'pandas.core.frame.DataFrame'>\n",
      "RangeIndex: 9463 entries, 0 to 9462\n",
      "Data columns (total 24 columns):\n",
      " #   Column                        Non-Null Count  Dtype  \n",
      "---  ------                        --------------  -----  \n",
      " 0   Patient_Age                   9290 non-null   float64\n",
      " 1   Genes_in_mother               9290 non-null   object \n",
      " 2   Inherited_from_father         8746 non-null   object \n",
      " 3   Maternal_gene                 5634 non-null   object \n",
      " 4   Paternal_gene                 9290 non-null   object \n",
      " 5   Status                        9290 non-null   object \n",
      " 6   Respiratory_Rate              6450 non-null   object \n",
      " 7   Heart_Rate                    6449 non-null   object \n",
      " 8   Follow_up                     9290 non-null   object \n",
      " 9   Gender                        9290 non-null   object \n",
      " 10  Birth_asphyxia                9290 non-null   object \n",
      " 11  Autopsy_birth_defect          8118 non-null   object \n",
      " 12  Folic_acid                    9290 non-null   object \n",
      " 13  Serious_maternal_illness      9290 non-null   object \n",
      " 14  Radiation_exposure            9290 non-null   object \n",
      " 15  Substance_abuse               9290 non-null   object \n",
      " 16  Assisted_conception           9290 non-null   object \n",
      " 17  Previous_pregnancy_anomalies  9290 non-null   object \n",
      " 18  No_of_abortion                9290 non-null   float64\n",
      " 19  Birth_defects                 9290 non-null   object \n",
      " 20  Blood_test_result             9290 non-null   object \n",
      " 21  Symptom_1                     9290 non-null   object \n",
      " 22  Symptom_2                     9290 non-null   object \n",
      " 23  Symptom_3                     9290 non-null   object \n",
      "dtypes: float64(2), object(22)\n",
      "memory usage: 1.7+ MB\n"
     ]
    }
   ],
   "source": [
    "data.info()"
   ]
  },
  {
   "cell_type": "code",
   "execution_count": 5,
   "metadata": {},
   "outputs": [],
   "source": [
    "data.dropna(subset=['Patient_Age'],how='any',inplace = True)"
   ]
  },
  {
   "cell_type": "code",
   "execution_count": 6,
   "metadata": {},
   "outputs": [
    {
     "name": "stdout",
     "output_type": "stream",
     "text": [
      "9290\n"
     ]
    }
   ],
   "source": [
    "print(len(data))"
   ]
  },
  {
   "cell_type": "code",
   "execution_count": 7,
   "metadata": {},
   "outputs": [
    {
     "name": "stdout",
     "output_type": "stream",
     "text": [
      "Patient_Age\n",
      "[ 6. 10.  5. 13.  9.  4. 12.  3.  1.  0. 14.  8.  2. 11.  7.]\n",
      "Genes_in_mother\n",
      "['No' 'Yes']\n",
      "Inherited_from_father\n",
      "['Yes' 'No' nan]\n",
      "Maternal_gene\n",
      "['No' nan 'Yes']\n",
      "Paternal_gene\n",
      "['No' 'Yes']\n",
      "Status\n",
      "['Alive' 'Deceased']\n",
      "Respiratory_Rate\n",
      "['Tachypnea' nan '-99' 'Normal (30-60)']\n",
      "Heart_Rate\n",
      "['Normal' '-99' nan 'Tachycardia']\n",
      "Follow_up\n",
      "['Low' 'High' '-99']\n",
      "Gender\n",
      "['Male' 'Ambiguous' '-99' 'Female']\n",
      "Birth_asphyxia\n",
      "['Yes' 'Not available' 'No' 'No record' '-99']\n",
      "Autopsy_birth_defect\n",
      "['Not applicable' '-99' nan 'Yes' 'No']\n",
      "Folic_acid\n",
      "['Yes' 'No' '-99']\n",
      "Serious_maternal_illness\n",
      "['No' 'Yes' '-99']\n",
      "Radiation_exposure\n",
      "['Yes' '-99' '-' 'Not applicable' 'No']\n",
      "Substance_abuse\n",
      "['-' '-99' 'Yes' 'Not applicable' 'No']\n",
      "Assisted_conception\n",
      "['No' 'Yes' '-99']\n",
      "Previous_pregnancy_anomalies\n",
      "['-99' 'Yes' 'No']\n",
      "No_of_abortion\n",
      "[  2. -99.   0.   1.   3.   4.]\n",
      "Birth_defects\n",
      "['Multiple' 'Singular' '-99']\n",
      "Blood_test_result\n",
      "['slightly abnormal' 'normal' '-99' 'inconclusive' 'abnormal']\n",
      "Symptom_1\n",
      "[True False]\n",
      "Symptom_2\n",
      "[True False]\n",
      "Symptom_3\n",
      "[True False]\n",
      "24\n"
     ]
    }
   ],
   "source": [
    "co = data.columns\n",
    "coun=0\n",
    "for c in co :\n",
    "    coun+=1\n",
    "    print(c)\n",
    "    print(data[c].unique())\n",
    "\n",
    "print(coun)"
   ]
  },
  {
   "cell_type": "code",
   "execution_count": 8,
   "metadata": {},
   "outputs": [],
   "source": [
    "import pandas as pd\n",
    "from sklearn.preprocessing import LabelEncoder\n",
    "\n",
    "# Columns for label encoding\n",
    "columns_to_encode = [\n",
    "    'Genes_in_mother',\n",
    "    'Inherited_from_father',\n",
    "    'Maternal_gene',\n",
    "    'Paternal_gene',\n",
    "    'Status',\n",
    "    'Follow_up',\n",
    "    'Gender',\n",
    "    'Birth_asphyxia',\n",
    "    'Autopsy_birth_defect',\n",
    "    'Folic_acid',\n",
    "    'Serious_maternal_illness',\n",
    "    'Radiation_exposure',\n",
    "    'Substance_abuse',\n",
    "    'Assisted_conception',\n",
    "    'Previous_pregnancy_anomalies',\n",
    "    'Birth_defects',\n",
    "    'Blood_test_result',\n",
    "    'Respiratory_Rate',\n",
    "    'Heart_Rate'\n",
    "]\n",
    "\n",
    "label_encoder = LabelEncoder()\n",
    "\n",
    "for column in columns_to_encode :\n",
    "\n",
    "    data[column] = label_encoder.fit_transform(data[column])\n",
    "\n"
   ]
  },
  {
   "cell_type": "code",
   "execution_count": 9,
   "metadata": {},
   "outputs": [
    {
     "name": "stdout",
     "output_type": "stream",
     "text": [
      "<class 'pandas.core.frame.DataFrame'>\n",
      "Index: 9290 entries, 0 to 9289\n",
      "Data columns (total 24 columns):\n",
      " #   Column                        Non-Null Count  Dtype  \n",
      "---  ------                        --------------  -----  \n",
      " 0   Patient_Age                   9290 non-null   float64\n",
      " 1   Genes_in_mother               9290 non-null   int64  \n",
      " 2   Inherited_from_father         9290 non-null   int64  \n",
      " 3   Maternal_gene                 9290 non-null   int64  \n",
      " 4   Paternal_gene                 9290 non-null   int64  \n",
      " 5   Status                        9290 non-null   int64  \n",
      " 6   Respiratory_Rate              9290 non-null   int64  \n",
      " 7   Heart_Rate                    9290 non-null   int64  \n",
      " 8   Follow_up                     9290 non-null   int64  \n",
      " 9   Gender                        9290 non-null   int64  \n",
      " 10  Birth_asphyxia                9290 non-null   int64  \n",
      " 11  Autopsy_birth_defect          9290 non-null   int64  \n",
      " 12  Folic_acid                    9290 non-null   int64  \n",
      " 13  Serious_maternal_illness      9290 non-null   int64  \n",
      " 14  Radiation_exposure            9290 non-null   int64  \n",
      " 15  Substance_abuse               9290 non-null   int64  \n",
      " 16  Assisted_conception           9290 non-null   int64  \n",
      " 17  Previous_pregnancy_anomalies  9290 non-null   int64  \n",
      " 18  No_of_abortion                9290 non-null   float64\n",
      " 19  Birth_defects                 9290 non-null   int64  \n",
      " 20  Blood_test_result             9290 non-null   int64  \n",
      " 21  Symptom_1                     9290 non-null   object \n",
      " 22  Symptom_2                     9290 non-null   object \n",
      " 23  Symptom_3                     9290 non-null   object \n",
      "dtypes: float64(2), int64(19), object(3)\n",
      "memory usage: 1.8+ MB\n"
     ]
    }
   ],
   "source": [
    "data.info()"
   ]
  },
  {
   "cell_type": "code",
   "execution_count": 10,
   "metadata": {},
   "outputs": [
    {
     "name": "stderr",
     "output_type": "stream",
     "text": [
      "/tmp/ipykernel_14324/3739516758.py:2: FutureWarning: Downcasting object dtype arrays on .fillna, .ffill, .bfill is deprecated and will change in a future version. Call result.infer_objects(copy=False) instead. To opt-in to the future behavior, set `pd.set_option('future.no_silent_downcasting', True)`\n",
      "  data['Symptom_1']=data['Symptom_1'].fillna(2)\n",
      "/tmp/ipykernel_14324/3739516758.py:3: FutureWarning: Downcasting object dtype arrays on .fillna, .ffill, .bfill is deprecated and will change in a future version. Call result.infer_objects(copy=False) instead. To opt-in to the future behavior, set `pd.set_option('future.no_silent_downcasting', True)`\n",
      "  data['Symptom_2']=data['Symptom_2'].fillna(2)\n",
      "/tmp/ipykernel_14324/3739516758.py:4: FutureWarning: Downcasting object dtype arrays on .fillna, .ffill, .bfill is deprecated and will change in a future version. Call result.infer_objects(copy=False) instead. To opt-in to the future behavior, set `pd.set_option('future.no_silent_downcasting', True)`\n",
      "  data['Symptom_3']=data['Symptom_3'].fillna(2)\n"
     ]
    }
   ],
   "source": [
    "data['No_of_abortion']=data['No_of_abortion'].fillna(0)\n",
    "data['Symptom_1']=data['Symptom_1'].fillna(2)\n",
    "data['Symptom_2']=data['Symptom_2'].fillna(2)\n",
    "data['Symptom_3']=data['Symptom_3'].fillna(2)"
   ]
  },
  {
   "cell_type": "code",
   "execution_count": 11,
   "metadata": {},
   "outputs": [
    {
     "name": "stdout",
     "output_type": "stream",
     "text": [
      "<class 'pandas.core.frame.DataFrame'>\n",
      "Index: 9290 entries, 0 to 9289\n",
      "Data columns (total 24 columns):\n",
      " #   Column                        Non-Null Count  Dtype  \n",
      "---  ------                        --------------  -----  \n",
      " 0   Patient_Age                   9290 non-null   float64\n",
      " 1   Genes_in_mother               9290 non-null   int64  \n",
      " 2   Inherited_from_father         9290 non-null   int64  \n",
      " 3   Maternal_gene                 9290 non-null   int64  \n",
      " 4   Paternal_gene                 9290 non-null   int64  \n",
      " 5   Status                        9290 non-null   int64  \n",
      " 6   Respiratory_Rate              9290 non-null   int64  \n",
      " 7   Heart_Rate                    9290 non-null   int64  \n",
      " 8   Follow_up                     9290 non-null   int64  \n",
      " 9   Gender                        9290 non-null   int64  \n",
      " 10  Birth_asphyxia                9290 non-null   int64  \n",
      " 11  Autopsy_birth_defect          9290 non-null   int64  \n",
      " 12  Folic_acid                    9290 non-null   int64  \n",
      " 13  Serious_maternal_illness      9290 non-null   int64  \n",
      " 14  Radiation_exposure            9290 non-null   int64  \n",
      " 15  Substance_abuse               9290 non-null   int64  \n",
      " 16  Assisted_conception           9290 non-null   int64  \n",
      " 17  Previous_pregnancy_anomalies  9290 non-null   int64  \n",
      " 18  No_of_abortion                9290 non-null   float64\n",
      " 19  Birth_defects                 9290 non-null   int64  \n",
      " 20  Blood_test_result             9290 non-null   int64  \n",
      " 21  Symptom_1                     9290 non-null   bool   \n",
      " 22  Symptom_2                     9290 non-null   bool   \n",
      " 23  Symptom_3                     9290 non-null   bool   \n",
      "dtypes: bool(3), float64(2), int64(19)\n",
      "memory usage: 1.6 MB\n"
     ]
    }
   ],
   "source": [
    "data.info()"
   ]
  },
  {
   "cell_type": "code",
   "execution_count": 12,
   "metadata": {},
   "outputs": [
    {
     "name": "stdout",
     "output_type": "stream",
     "text": [
      "9290\n"
     ]
    }
   ],
   "source": [
    "print(len(data))"
   ]
  },
  {
   "cell_type": "code",
   "execution_count": 13,
   "metadata": {},
   "outputs": [],
   "source": [
    "data.to_csv('cleaned_test_data.csv',index=None)"
   ]
  }
 ],
 "metadata": {
  "kernelspec": {
   "display_name": "env",
   "language": "python",
   "name": "python3"
  },
  "language_info": {
   "codemirror_mode": {
    "name": "ipython",
    "version": 3
   },
   "file_extension": ".py",
   "mimetype": "text/x-python",
   "name": "python",
   "nbconvert_exporter": "python",
   "pygments_lexer": "ipython3",
   "version": "3.10.12"
  }
 },
 "nbformat": 4,
 "nbformat_minor": 2
}
