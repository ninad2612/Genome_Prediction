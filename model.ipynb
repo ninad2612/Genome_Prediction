{
 "cells": [
  {
   "cell_type": "code",
   "execution_count": 12,
   "metadata": {},
   "outputs": [],
   "source": [
    "import pandas as pd\n"
   ]
  },
  {
   "cell_type": "code",
   "execution_count": 13,
   "metadata": {},
   "outputs": [],
   "source": [
    "data= pd.read_csv(r\"C:\\Genome_Disorder_prediction\\Original_Data\\train_genetic_disorders.csv\")"
   ]
  },
  {
   "cell_type": "code",
   "execution_count": 14,
   "metadata": {},
   "outputs": [
    {
     "name": "stdout",
     "output_type": "stream",
     "text": [
      "22083\n"
     ]
    }
   ],
   "source": [
    "print(len(data))"
   ]
  },
  {
   "cell_type": "code",
   "execution_count": 15,
   "metadata": {},
   "outputs": [],
   "source": [
    "import pandas as pd\n",
    "\n",
    "# Read the CSV file\n",
    "df= pd.read_csv(r\"C:\\Genome_Disorder_prediction\\Original_Data\\train_genetic_disorders.csv\")\n",
    "\n",
    "\n",
    "# Rename the specified columns\n",
    "df.rename(columns={\n",
    "    \"Patient Age\": 'Patient_Age',\n",
    "    \"Genes in mother's side\": 'Genes_in_mother',\n",
    "    \"Inherited from father\": 'Inherited_from_father',\n",
    "    \"Maternal gene\": 'Maternal_gene',\n",
    "    \"Paternal gene\": 'Paternal_gene',\n",
    "    \"Status\": 'Status',\n",
    "    \"Respiratory Rate (breaths/min)\": 'Respiratory_Rate',\n",
    "    \"Heart Rate (rates/min\": 'Heart_Rate',\n",
    "    \"Follow-up\": 'Follow_up',\n",
    "    \"Gender\": 'Gender',\n",
    "    \"Birth asphyxia\": 'Birth_asphyxia',\n",
    "    \"Autopsy shows birth defect (if applicable)\": 'Autopsy_birth_defect',\n",
    "    \"Folic acid details (peri-conceptional)\": 'Folic_acid',\n",
    "    \"H/O serious maternal illness\": 'Serious_maternal_illness',\n",
    "    \"H/O radiation exposure (x-ray)\": 'Radiation_exposure',\n",
    "    \"H/O substance abuse\": 'Substance_abuse',\n",
    "    \"Assisted conception IVF/ART\": 'Assisted_conception',\n",
    "    \"History of anomalies in previous pregnancies\": 'Previous_pregnancy_anomalies',\n",
    "    \"No. of previous abortion\": 'No_of_abortion',\n",
    "    \"Birth defects\": 'Birth_defects',\n",
    "    \"Blood test result\": 'Blood_test_result',\n",
    "    \"Symptom 1\": 'Symptom_1',\n",
    "    \"Symptom 2\": 'Symptom_2',\n",
    "    \"Symptom 3\": 'Symptom_3'\n",
    "}, inplace=True)\n",
    "\n",
    "# Select only the specified columns\n",
    "columns_to_keep = [\n",
    "    'Patient_Age', 'Genes_in_mother', 'Inherited_from_father', 'Maternal_gene',\n",
    "    'Paternal_gene', 'Status', 'Respiratory_Rate', 'Heart_Rate', 'Follow_up', \n",
    "    'Gender', 'Birth_asphyxia', 'Autopsy_birth_defect', 'Folic_acid', \n",
    "    'Serious_maternal_illness', 'Radiation_exposure', 'Substance_abuse', \n",
    "    'Assisted_conception', 'Previous_pregnancy_anomalies', 'No_of_abortion', \n",
    "    'Birth_defects', 'Blood_test_result', 'Symptom_1', 'Symptom_2', 'Symptom_3'\n",
    "]\n",
    "df = df[columns_to_keep]\n",
    "\n",
    "# Save the DataFrame back to the same CSV file\n",
    "df.to_csv(r\"C:\\Genome_Disorder_prediction\\Selected_Data\\train_genetic_disorders.csv\",index=False)\n"
   ]
  },
  {
   "cell_type": "code",
   "execution_count": 16,
   "metadata": {},
   "outputs": [
    {
     "name": "stdout",
     "output_type": "stream",
     "text": [
      "22083\n",
      "24\n"
     ]
    }
   ],
   "source": [
    "data= pd.read_csv(r\"C:\\Genome_Disorder_prediction\\Selected_Data\\train_genetic_disorders.csv\")\n",
    "\n",
    "print(len(data))\n",
    "print(len(data.columns))"
   ]
  },
  {
   "cell_type": "markdown",
   "metadata": {},
   "source": [
    "FOR TEST DATA"
   ]
  },
  {
   "cell_type": "code",
   "execution_count": 17,
   "metadata": {},
   "outputs": [
    {
     "name": "stdout",
     "output_type": "stream",
     "text": [
      "9463\n"
     ]
    }
   ],
   "source": [
    "data= pd.read_csv(r\"C:\\Genome_Disorder_prediction\\Original_Data\\test_genetic_disorders.csv\")\n",
    "\n",
    "print(len(data))"
   ]
  },
  {
   "cell_type": "code",
   "execution_count": 18,
   "metadata": {},
   "outputs": [],
   "source": [
    "import pandas as pd\n",
    "\n",
    "# Read the CSV file\n",
    "df= pd.read_csv(r\"C:\\Genome_Disorder_prediction\\Original_Data\\test_genetic_disorders.csv\")\n",
    "\n",
    "\n",
    "# Rename the specified columns\n",
    "df.rename(columns={\n",
    "    \"Patient Age\": 'Patient_Age',\n",
    "    \"Genes in mother's side\": 'Genes_in_mother',\n",
    "    \"Inherited from father\": 'Inherited_from_father',\n",
    "    \"Maternal gene\": 'Maternal_gene',\n",
    "    \"Paternal gene\": 'Paternal_gene',\n",
    "    \"Status\": 'Status',\n",
    "    \"Respiratory Rate (breaths/min)\": 'Respiratory_Rate',\n",
    "    \"Heart Rate (rates/min\": 'Heart_Rate',\n",
    "    \"Follow-up\": 'Follow_up',\n",
    "    \"Gender\": 'Gender',\n",
    "    \"Birth asphyxia\": 'Birth_asphyxia',\n",
    "    \"Autopsy shows birth defect (if applicable)\": 'Autopsy_birth_defect',\n",
    "    \"Folic acid details (peri-conceptional)\": 'Folic_acid',\n",
    "    \"H/O serious maternal illness\": 'Serious_maternal_illness',\n",
    "    \"H/O radiation exposure (x-ray)\": 'Radiation_exposure',\n",
    "    \"H/O substance abuse\": 'Substance_abuse',\n",
    "    \"Assisted conception IVF/ART\": 'Assisted_conception',\n",
    "    \"History of anomalies in previous pregnancies\": 'Previous_pregnancy_anomalies',\n",
    "    \"No. of previous abortion\": 'No_of_abortion',\n",
    "    \"Birth defects\": 'Birth_defects',\n",
    "    \"Blood test result\": 'Blood_test_result',\n",
    "    \"Symptom 1\": 'Symptom_1',\n",
    "    \"Symptom 2\": 'Symptom_2',\n",
    "    \"Symptom 3\": 'Symptom_3'\n",
    "}, inplace=True)\n",
    "\n",
    "# Select only the specified columns\n",
    "columns_to_keep = [\n",
    "    'Patient_Age', 'Genes_in_mother', 'Inherited_from_father', 'Maternal_gene',\n",
    "    'Paternal_gene', 'Status', 'Respiratory_Rate', 'Heart_Rate', 'Follow_up', \n",
    "    'Gender', 'Birth_asphyxia', 'Autopsy_birth_defect', 'Folic_acid', \n",
    "    'Serious_maternal_illness', 'Radiation_exposure', 'Substance_abuse', \n",
    "    'Assisted_conception', 'Previous_pregnancy_anomalies', 'No_of_abortion', \n",
    "    'Birth_defects', 'Blood_test_result', 'Symptom_1', 'Symptom_2', 'Symptom_3'\n",
    "]\n",
    "df = df[columns_to_keep]\n",
    "\n",
    "# Save the DataFrame back to the same CSV file\n",
    "df.to_csv(r\"C:\\Genome_Disorder_prediction\\Selected_Data\\test_genetic_disorders.csv\",index=False)\n"
   ]
  },
  {
   "cell_type": "code",
   "execution_count": 19,
   "metadata": {},
   "outputs": [
    {
     "name": "stdout",
     "output_type": "stream",
     "text": [
      "9463\n",
      "24\n"
     ]
    }
   ],
   "source": [
    "data= pd.read_csv(r\"C:\\Genome_Disorder_prediction\\Selected_Data\\test_genetic_disorders.csv\")\n",
    "\n",
    "print(len(data))\n",
    "print(len(data.columns))"
   ]
  },
  {
   "cell_type": "code",
   "execution_count": 42,
   "metadata": {},
   "outputs": [
    {
     "name": "stdout",
     "output_type": "stream",
     "text": [
      "Index(['Patient_Age', 'Genes_in_mother', 'Inherited_from_father',\n",
      "       'Maternal_gene', 'Paternal_gene', 'Status', 'Respiratory_Rate',\n",
      "       'Heart_Rate', 'Follow_up', 'Gender', 'Birth_asphyxia',\n",
      "       'Autopsy_birth_defect', 'Folic_acid', 'Serious_maternal_illness',\n",
      "       'Radiation_exposure', 'Substance_abuse', 'Assisted_conception',\n",
      "       'Previous_pregnancy_anomalies', 'No_of_abortion', 'Birth_defects',\n",
      "       'Blood_test_result', 'Symptom_1', 'Symptom_2', 'Symptom_3'],\n",
      "      dtype='object')\n"
     ]
    }
   ],
   "source": [
    "print(data.columns)"
   ]
  },
  {
   "cell_type": "code",
   "execution_count": 2,
   "metadata": {},
   "outputs": [],
   "source": [
    "import pandas as pd\n",
    "\n",
    "data= pd.read_csv(r'C:\\Genome_Disorder_prediction\\Selected_data\\train_genetic_disorders.csv')"
   ]
  },
  {
   "cell_type": "code",
   "execution_count": 3,
   "metadata": {},
   "outputs": [
    {
     "name": "stdout",
     "output_type": "stream",
     "text": [
      "Index(['Patient_Age', 'Genes_in_mother', 'Inherited_from_father',\n",
      "       'Maternal_gene', 'Paternal_gene', 'Status', 'Respiratory_Rate',\n",
      "       'Heart_Rate', 'Follow_up', 'Gender', 'Birth_asphyxia',\n",
      "       'Autopsy_birth_defect', 'Folic_acid', 'Serious_maternal_illness',\n",
      "       'Radiation_exposure', 'Substance_abuse', 'Assisted_conception',\n",
      "       'Previous_pregnancy_anomalies', 'No_of_abortion', 'Birth_defects',\n",
      "       'Blood_test_result', 'Symptom_1', 'Symptom_2', 'Symptom_3'],\n",
      "      dtype='object')\n"
     ]
    }
   ],
   "source": [
    "print(data.columns)"
   ]
  },
  {
   "cell_type": "code",
   "execution_count": 4,
   "metadata": {},
   "outputs": [
    {
     "data": {
      "text/plain": [
       "24"
      ]
     },
     "execution_count": 4,
     "metadata": {},
     "output_type": "execute_result"
    }
   ],
   "source": [
    "len(data.columns)"
   ]
  },
  {
   "cell_type": "code",
   "execution_count": 5,
   "metadata": {},
   "outputs": [
    {
     "name": "stdout",
     "output_type": "stream",
     "text": [
      "<class 'pandas.core.frame.DataFrame'>\n",
      "RangeIndex: 22083 entries, 0 to 22082\n",
      "Data columns (total 24 columns):\n",
      " #   Column                        Non-Null Count  Dtype  \n",
      "---  ------                        --------------  -----  \n",
      " 0   Patient_Age                   19643 non-null  float64\n",
      " 1   Genes_in_mother               21011 non-null  object \n",
      " 2   Inherited_from_father         20724 non-null  object \n",
      " 3   Maternal_gene                 18317 non-null  object \n",
      " 4   Paternal_gene                 21011 non-null  object \n",
      " 5   Status                        21011 non-null  object \n",
      " 6   Respiratory_Rate              18952 non-null  object \n",
      " 7   Heart_Rate                    18986 non-null  object \n",
      " 8   Follow_up                     18941 non-null  object \n",
      " 9   Gender                        18948 non-null  object \n",
      " 10  Birth_asphyxia                18953 non-null  object \n",
      " 11  Autopsy_birth_defect          16847 non-null  object \n",
      " 12  Folic_acid                    18998 non-null  object \n",
      " 13  Serious_maternal_illness      18959 non-null  object \n",
      " 14  Radiation_exposure            18964 non-null  object \n",
      " 15  Substance_abuse               18921 non-null  object \n",
      " 16  Assisted_conception           19007 non-null  object \n",
      " 17  Previous_pregnancy_anomalies  18945 non-null  object \n",
      " 18  No_of_abortion                18957 non-null  float64\n",
      " 19  Birth_defects                 18959 non-null  object \n",
      " 20  Blood_test_result             18977 non-null  object \n",
      " 21  Symptom_1                     18955 non-null  float64\n",
      " 22  Symptom_2                     18899 non-null  float64\n",
      " 23  Symptom_3                     19008 non-null  float64\n",
      "dtypes: float64(5), object(19)\n",
      "memory usage: 4.0+ MB\n"
     ]
    }
   ],
   "source": [
    "data.info()"
   ]
  }
 ],
 "metadata": {
  "kernelspec": {
   "display_name": "env",
   "language": "python",
   "name": "python3"
  },
  "language_info": {
   "codemirror_mode": {
    "name": "ipython",
    "version": 3
   },
   "file_extension": ".py",
   "mimetype": "text/x-python",
   "name": "python",
   "nbconvert_exporter": "python",
   "pygments_lexer": "ipython3",
   "version": "3.12.3"
  }
 },
 "nbformat": 4,
 "nbformat_minor": 2
}
