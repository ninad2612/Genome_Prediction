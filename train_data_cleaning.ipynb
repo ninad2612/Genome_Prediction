{
 "cells": [
  {
   "cell_type": "code",
   "execution_count": 1,
   "metadata": {},
   "outputs": [],
   "source": [
    "import pandas as pd \n",
    "data = pd.read_csv('/home/vedant/Genome/Genome_Prediction/Selected_data/train_genetic_disorders.csv')"
   ]
  },
  {
   "cell_type": "code",
   "execution_count": 2,
   "metadata": {},
   "outputs": [
    {
     "name": "stdout",
     "output_type": "stream",
     "text": [
      "19643\n"
     ]
    }
   ],
   "source": [
    "print(len(data))"
   ]
  },
  {
   "cell_type": "code",
   "execution_count": 3,
   "metadata": {},
   "outputs": [
    {
     "data": {
      "text/html": [
       "<div>\n",
       "<style scoped>\n",
       "    .dataframe tbody tr th:only-of-type {\n",
       "        vertical-align: middle;\n",
       "    }\n",
       "\n",
       "    .dataframe tbody tr th {\n",
       "        vertical-align: top;\n",
       "    }\n",
       "\n",
       "    .dataframe thead th {\n",
       "        text-align: right;\n",
       "    }\n",
       "</style>\n",
       "<table border=\"1\" class=\"dataframe\">\n",
       "  <thead>\n",
       "    <tr style=\"text-align: right;\">\n",
       "      <th></th>\n",
       "      <th>Patient_Age</th>\n",
       "      <th>No_of_abortion</th>\n",
       "      <th>Symptom_1</th>\n",
       "      <th>Symptom_2</th>\n",
       "      <th>Symptom_3</th>\n",
       "    </tr>\n",
       "  </thead>\n",
       "  <tbody>\n",
       "    <tr>\n",
       "      <th>count</th>\n",
       "      <td>19643.000000</td>\n",
       "      <td>17756.000000</td>\n",
       "      <td>17791.000000</td>\n",
       "      <td>17747.000000</td>\n",
       "      <td>17826.000000</td>\n",
       "    </tr>\n",
       "    <tr>\n",
       "      <th>mean</th>\n",
       "      <td>6.974851</td>\n",
       "      <td>1.996846</td>\n",
       "      <td>0.592097</td>\n",
       "      <td>0.552206</td>\n",
       "      <td>0.536520</td>\n",
       "    </tr>\n",
       "    <tr>\n",
       "      <th>std</th>\n",
       "      <td>4.322584</td>\n",
       "      <td>1.411180</td>\n",
       "      <td>0.491459</td>\n",
       "      <td>0.497281</td>\n",
       "      <td>0.498679</td>\n",
       "    </tr>\n",
       "    <tr>\n",
       "      <th>min</th>\n",
       "      <td>0.000000</td>\n",
       "      <td>0.000000</td>\n",
       "      <td>0.000000</td>\n",
       "      <td>0.000000</td>\n",
       "      <td>0.000000</td>\n",
       "    </tr>\n",
       "    <tr>\n",
       "      <th>25%</th>\n",
       "      <td>3.000000</td>\n",
       "      <td>1.000000</td>\n",
       "      <td>0.000000</td>\n",
       "      <td>0.000000</td>\n",
       "      <td>0.000000</td>\n",
       "    </tr>\n",
       "    <tr>\n",
       "      <th>50%</th>\n",
       "      <td>7.000000</td>\n",
       "      <td>2.000000</td>\n",
       "      <td>1.000000</td>\n",
       "      <td>1.000000</td>\n",
       "      <td>1.000000</td>\n",
       "    </tr>\n",
       "    <tr>\n",
       "      <th>75%</th>\n",
       "      <td>11.000000</td>\n",
       "      <td>3.000000</td>\n",
       "      <td>1.000000</td>\n",
       "      <td>1.000000</td>\n",
       "      <td>1.000000</td>\n",
       "    </tr>\n",
       "    <tr>\n",
       "      <th>max</th>\n",
       "      <td>14.000000</td>\n",
       "      <td>4.000000</td>\n",
       "      <td>1.000000</td>\n",
       "      <td>1.000000</td>\n",
       "      <td>1.000000</td>\n",
       "    </tr>\n",
       "  </tbody>\n",
       "</table>\n",
       "</div>"
      ],
      "text/plain": [
       "        Patient_Age  No_of_abortion     Symptom_1     Symptom_2     Symptom_3\n",
       "count  19643.000000    17756.000000  17791.000000  17747.000000  17826.000000\n",
       "mean       6.974851        1.996846      0.592097      0.552206      0.536520\n",
       "std        4.322584        1.411180      0.491459      0.497281      0.498679\n",
       "min        0.000000        0.000000      0.000000      0.000000      0.000000\n",
       "25%        3.000000        1.000000      0.000000      0.000000      0.000000\n",
       "50%        7.000000        2.000000      1.000000      1.000000      1.000000\n",
       "75%       11.000000        3.000000      1.000000      1.000000      1.000000\n",
       "max       14.000000        4.000000      1.000000      1.000000      1.000000"
      ]
     },
     "execution_count": 3,
     "metadata": {},
     "output_type": "execute_result"
    }
   ],
   "source": [
    "data.describe()"
   ]
  },
  {
   "cell_type": "code",
   "execution_count": 4,
   "metadata": {},
   "outputs": [
    {
     "name": "stdout",
     "output_type": "stream",
     "text": [
      "<class 'pandas.core.frame.DataFrame'>\n",
      "RangeIndex: 19643 entries, 0 to 19642\n",
      "Data columns (total 24 columns):\n",
      " #   Column                        Non-Null Count  Dtype  \n",
      "---  ------                        --------------  -----  \n",
      " 0   Patient_Age                   19643 non-null  float64\n",
      " 1   Genes_in_mother               19643 non-null  object \n",
      " 2   Inherited_from_father         19385 non-null  object \n",
      " 3   Maternal_gene                 17199 non-null  object \n",
      " 4   Paternal_gene                 19643 non-null  object \n",
      " 5   Status                        19643 non-null  object \n",
      " 6   Respiratory_Rate              17771 non-null  object \n",
      " 7   Heart_Rate                    17804 non-null  object \n",
      " 8   Follow_up                     17753 non-null  object \n",
      " 9   Gender                        17770 non-null  object \n",
      " 10  Birth_asphyxia                17772 non-null  object \n",
      " 11  Autopsy_birth_defect          15769 non-null  object \n",
      " 12  Folic_acid                    17819 non-null  object \n",
      " 13  Serious_maternal_illness      17786 non-null  object \n",
      " 14  Radiation_exposure            17788 non-null  object \n",
      " 15  Substance_abuse               17740 non-null  object \n",
      " 16  Assisted_conception           17849 non-null  object \n",
      " 17  Previous_pregnancy_anomalies  17774 non-null  object \n",
      " 18  No_of_abortion                17756 non-null  float64\n",
      " 19  Birth_defects                 17796 non-null  object \n",
      " 20  Blood_test_result             17798 non-null  object \n",
      " 21  Symptom_1                     17791 non-null  float64\n",
      " 22  Symptom_2                     17747 non-null  float64\n",
      " 23  Symptom_3                     17826 non-null  float64\n",
      "dtypes: float64(5), object(19)\n",
      "memory usage: 3.6+ MB\n"
     ]
    }
   ],
   "source": [
    "data.info()"
   ]
  },
  {
   "cell_type": "code",
   "execution_count": 5,
   "metadata": {},
   "outputs": [],
   "source": [
    "data.dropna(subset=['Patient_Age'],how='any',inplace = True)"
   ]
  },
  {
   "cell_type": "code",
   "execution_count": 6,
   "metadata": {},
   "outputs": [
    {
     "name": "stdout",
     "output_type": "stream",
     "text": [
      "19643\n"
     ]
    }
   ],
   "source": [
    "print(len(data))"
   ]
  },
  {
   "cell_type": "code",
   "execution_count": 7,
   "metadata": {},
   "outputs": [
    {
     "name": "stdout",
     "output_type": "stream",
     "text": [
      "Patient_Age\n",
      "[ 2.  4.  6. 12. 11. 14.  3.  7.  1.  0. 10.  5. 13.  8.  9.]\n",
      "Genes_in_mother\n",
      "['Yes' 'No']\n",
      "Inherited_from_father\n",
      "['No' 'Yes' nan]\n",
      "Maternal_gene\n",
      "['Yes' 'No' nan]\n",
      "Paternal_gene\n",
      "['No' 'Yes']\n",
      "Status\n",
      "['Alive' 'Deceased']\n",
      "Respiratory_Rate\n",
      "['Normal (30-60)' 'Tachypnea' nan]\n",
      "Heart_Rate\n",
      "['Normal' 'Tachycardia' nan]\n",
      "Follow_up\n",
      "['High' 'Low' nan]\n",
      "Gender\n",
      "[nan 'Male' 'Female' 'Ambiguous']\n",
      "Birth_asphyxia\n",
      "[nan 'No' 'No record' 'Not available' 'Yes']\n",
      "Autopsy_birth_defect\n",
      "['Not applicable' nan 'No' 'Yes']\n",
      "Folic_acid\n",
      "['No' 'Yes' nan]\n",
      "Serious_maternal_illness\n",
      "[nan 'Yes' 'No']\n",
      "Radiation_exposure\n",
      "['No' 'Not applicable' 'Yes' '-' nan]\n",
      "Substance_abuse\n",
      "['No' 'Not applicable' nan '-' 'Yes']\n",
      "Assisted_conception\n",
      "['No' 'Yes' nan]\n",
      "Previous_pregnancy_anomalies\n",
      "['Yes' 'No' nan]\n",
      "No_of_abortion\n",
      "[nan  4.  1.  0.  3.  2.]\n",
      "Birth_defects\n",
      "[nan 'Multiple' 'Singular']\n",
      "Blood_test_result\n",
      "[nan 'normal' 'inconclusive' 'slightly abnormal' 'abnormal']\n",
      "Symptom_1\n",
      "[ 1.  0. nan]\n",
      "Symptom_2\n",
      "[ 1. nan  0.]\n",
      "Symptom_3\n",
      "[ 1.  0. nan]\n",
      "24\n"
     ]
    }
   ],
   "source": [
    "co = data.columns\n",
    "coun=0\n",
    "for c in co :\n",
    "    coun+=1\n",
    "    print(c)\n",
    "    print(data[c].unique())\n",
    "\n",
    "print(coun)"
   ]
  },
  {
   "cell_type": "code",
   "execution_count": 8,
   "metadata": {},
   "outputs": [],
   "source": [
    "import pandas as pd\n",
    "from sklearn.preprocessing import LabelEncoder\n",
    "\n",
    "# Columns for label encoding\n",
    "columns_to_encode = [\n",
    "    'Genes_in_mother',\n",
    "    'Inherited_from_father',\n",
    "    'Maternal_gene',\n",
    "    'Paternal_gene',\n",
    "    'Status',\n",
    "    'Follow_up',\n",
    "    'Gender',\n",
    "    'Birth_asphyxia',\n",
    "    'Autopsy_birth_defect',\n",
    "    'Folic_acid',\n",
    "    'Serious_maternal_illness',\n",
    "    'Radiation_exposure',\n",
    "    'Substance_abuse',\n",
    "    'Assisted_conception',\n",
    "    'Previous_pregnancy_anomalies',\n",
    "    'Birth_defects',\n",
    "    'Blood_test_result',\n",
    "    'Respiratory_Rate',\n",
    "    'Heart_Rate'\n",
    "]\n",
    "\n",
    "label_encoder = LabelEncoder()\n",
    "\n",
    "for column in columns_to_encode :\n",
    "\n",
    "    data[column] = label_encoder.fit_transform(data[column])\n",
    "\n"
   ]
  },
  {
   "cell_type": "code",
   "execution_count": 9,
   "metadata": {},
   "outputs": [
    {
     "name": "stdout",
     "output_type": "stream",
     "text": [
      "<class 'pandas.core.frame.DataFrame'>\n",
      "RangeIndex: 19643 entries, 0 to 19642\n",
      "Data columns (total 24 columns):\n",
      " #   Column                        Non-Null Count  Dtype  \n",
      "---  ------                        --------------  -----  \n",
      " 0   Patient_Age                   19643 non-null  float64\n",
      " 1   Genes_in_mother               19643 non-null  int64  \n",
      " 2   Inherited_from_father         19643 non-null  int64  \n",
      " 3   Maternal_gene                 19643 non-null  int64  \n",
      " 4   Paternal_gene                 19643 non-null  int64  \n",
      " 5   Status                        19643 non-null  int64  \n",
      " 6   Respiratory_Rate              19643 non-null  int64  \n",
      " 7   Heart_Rate                    19643 non-null  int64  \n",
      " 8   Follow_up                     19643 non-null  int64  \n",
      " 9   Gender                        19643 non-null  int64  \n",
      " 10  Birth_asphyxia                19643 non-null  int64  \n",
      " 11  Autopsy_birth_defect          19643 non-null  int64  \n",
      " 12  Folic_acid                    19643 non-null  int64  \n",
      " 13  Serious_maternal_illness      19643 non-null  int64  \n",
      " 14  Radiation_exposure            19643 non-null  int64  \n",
      " 15  Substance_abuse               19643 non-null  int64  \n",
      " 16  Assisted_conception           19643 non-null  int64  \n",
      " 17  Previous_pregnancy_anomalies  19643 non-null  int64  \n",
      " 18  No_of_abortion                17756 non-null  float64\n",
      " 19  Birth_defects                 19643 non-null  int64  \n",
      " 20  Blood_test_result             19643 non-null  int64  \n",
      " 21  Symptom_1                     17791 non-null  float64\n",
      " 22  Symptom_2                     17747 non-null  float64\n",
      " 23  Symptom_3                     17826 non-null  float64\n",
      "dtypes: float64(5), int64(19)\n",
      "memory usage: 3.6 MB\n"
     ]
    }
   ],
   "source": [
    "data.info()"
   ]
  },
  {
   "cell_type": "code",
   "execution_count": 10,
   "metadata": {},
   "outputs": [],
   "source": [
    "data['No_of_abortion']=data['No_of_abortion'].fillna(0)\n",
    "data['Symptom_1']=data['Symptom_1'].fillna(2)\n",
    "data['Symptom_2']=data['Symptom_2'].fillna(2)\n",
    "data['Symptom_3']=data['Symptom_3'].fillna(2)"
   ]
  },
  {
   "cell_type": "code",
   "execution_count": 11,
   "metadata": {},
   "outputs": [
    {
     "name": "stdout",
     "output_type": "stream",
     "text": [
      "<class 'pandas.core.frame.DataFrame'>\n",
      "RangeIndex: 19643 entries, 0 to 19642\n",
      "Data columns (total 24 columns):\n",
      " #   Column                        Non-Null Count  Dtype  \n",
      "---  ------                        --------------  -----  \n",
      " 0   Patient_Age                   19643 non-null  float64\n",
      " 1   Genes_in_mother               19643 non-null  int64  \n",
      " 2   Inherited_from_father         19643 non-null  int64  \n",
      " 3   Maternal_gene                 19643 non-null  int64  \n",
      " 4   Paternal_gene                 19643 non-null  int64  \n",
      " 5   Status                        19643 non-null  int64  \n",
      " 6   Respiratory_Rate              19643 non-null  int64  \n",
      " 7   Heart_Rate                    19643 non-null  int64  \n",
      " 8   Follow_up                     19643 non-null  int64  \n",
      " 9   Gender                        19643 non-null  int64  \n",
      " 10  Birth_asphyxia                19643 non-null  int64  \n",
      " 11  Autopsy_birth_defect          19643 non-null  int64  \n",
      " 12  Folic_acid                    19643 non-null  int64  \n",
      " 13  Serious_maternal_illness      19643 non-null  int64  \n",
      " 14  Radiation_exposure            19643 non-null  int64  \n",
      " 15  Substance_abuse               19643 non-null  int64  \n",
      " 16  Assisted_conception           19643 non-null  int64  \n",
      " 17  Previous_pregnancy_anomalies  19643 non-null  int64  \n",
      " 18  No_of_abortion                19643 non-null  float64\n",
      " 19  Birth_defects                 19643 non-null  int64  \n",
      " 20  Blood_test_result             19643 non-null  int64  \n",
      " 21  Symptom_1                     19643 non-null  float64\n",
      " 22  Symptom_2                     19643 non-null  float64\n",
      " 23  Symptom_3                     19643 non-null  float64\n",
      "dtypes: float64(5), int64(19)\n",
      "memory usage: 3.6 MB\n"
     ]
    }
   ],
   "source": [
    "data.info()"
   ]
  },
  {
   "cell_type": "code",
   "execution_count": 13,
   "metadata": {},
   "outputs": [
    {
     "name": "stdout",
     "output_type": "stream",
     "text": [
      "19643\n"
     ]
    }
   ],
   "source": [
    "print(len(data))"
   ]
  },
  {
   "cell_type": "code",
   "execution_count": 12,
   "metadata": {},
   "outputs": [],
   "source": [
    "data.to_csv('cleaned data.csv',index=None)"
   ]
  }
 ],
 "metadata": {
  "kernelspec": {
   "display_name": "env",
   "language": "python",
   "name": "python3"
  },
  "language_info": {
   "codemirror_mode": {
    "name": "ipython",
    "version": 3
   },
   "file_extension": ".py",
   "mimetype": "text/x-python",
   "name": "python",
   "nbconvert_exporter": "python",
   "pygments_lexer": "ipython3",
   "version": "3.10.12"
  }
 },
 "nbformat": 4,
 "nbformat_minor": 2
}
