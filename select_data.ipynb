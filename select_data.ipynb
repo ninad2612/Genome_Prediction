{
 "cells": [
  {
   "cell_type": "code",
   "execution_count": 1,
   "metadata": {},
   "outputs": [],
   "source": [
    "import pandas as pd\n"
   ]
  },
  {
   "cell_type": "code",
   "execution_count": 2,
   "metadata": {},
   "outputs": [],
   "source": [
    "data= pd.read_csv(r\"/home/vedant/Genome/Genome_Prediction/Original_Data/train_genetic_disorders.csv\")"
   ]
  },
  {
   "cell_type": "code",
   "execution_count": 3,
   "metadata": {},
   "outputs": [
    {
     "name": "stdout",
     "output_type": "stream",
     "text": [
      "22083\n"
     ]
    }
   ],
   "source": [
    "print(len(data))"
   ]
  },
  {
   "cell_type": "code",
   "execution_count": 7,
   "metadata": {},
   "outputs": [],
   "source": [
    "import pandas as pd\n",
    "\n",
    "# Read the CSV file\n",
    "df= data\n",
    "\n",
    "\n",
    "# Rename the specified columns\n",
    "df.rename(columns={\n",
    "    \"Patient Age\": 'Patient_Age',\n",
    "    \"Genes in mother's side\": 'Genes_in_mother',\n",
    "    \"Inherited from father\": 'Inherited_from_father',\n",
    "    \"Maternal gene\": 'Maternal_gene',\n",
    "    \"Paternal gene\": 'Paternal_gene',\n",
    "    \"Status\": 'Status',\n",
    "    \"Respiratory Rate (breaths/min)\": 'Respiratory_Rate',\n",
    "    \"Heart Rate (rates/min\": 'Heart_Rate',\n",
    "    \"Follow-up\": 'Follow_up',\n",
    "    \"Gender\": 'Gender',\n",
    "    \"Birth asphyxia\": 'Birth_asphyxia',\n",
    "    \"Autopsy shows birth defect (if applicable)\": 'Autopsy_birth_defect',\n",
    "    \"Folic acid details (peri-conceptional)\": 'Folic_acid',\n",
    "    \"H/O serious maternal illness\": 'Serious_maternal_illness',\n",
    "    \"H/O radiation exposure (x-ray)\": 'Radiation_exposure',\n",
    "    \"H/O substance abuse\": 'Substance_abuse',\n",
    "    \"Assisted conception IVF/ART\": 'Assisted_conception',\n",
    "    \"History of anomalies in previous pregnancies\": 'Previous_pregnancy_anomalies',\n",
    "    \"No. of previous abortion\": 'No_of_abortion',\n",
    "    \"Birth defects\": 'Birth_defects',\n",
    "    \"Blood test result\": 'Blood_test_result',\n",
    "    \"Symptom 1\": 'Symptom_1',\n",
    "    \"Symptom 2\": 'Symptom_2',\n",
    "    \"Symptom 3\": 'Symptom_3',\n",
    "    \"Genetic Disorder\": \"Genetic_Disorder\",\n",
    "    \"Disorder Subclass\": \"Disorder_Subclass\"\n",
    "}, inplace=True)\n",
    "\n",
    "# Select only the specified columns\n",
    "columns_to_keep = [\n",
    "    'Patient_Age', 'Genes_in_mother', 'Inherited_from_father', 'Maternal_gene',\n",
    "    'Paternal_gene', 'Status', 'Respiratory_Rate', 'Heart_Rate', 'Follow_up', \n",
    "    'Gender', 'Birth_asphyxia', 'Autopsy_birth_defect', 'Folic_acid', \n",
    "    'Serious_maternal_illness', 'Radiation_exposure', 'Substance_abuse', \n",
    "    'Assisted_conception', 'Previous_pregnancy_anomalies', 'No_of_abortion', \n",
    "    'Birth_defects', 'Blood_test_result', 'Symptom_1', 'Symptom_2', 'Symptom_3','Genetic_Disorder','Disorder_Subclass'\n",
    "]\n",
    "df = df[columns_to_keep]\n",
    "\n",
    "# Save the DataFrame back to the same CSV file\n",
    "df.to_csv(r\"/home/vedant/Genome/Genome_Prediction/Selected_data/train_genetic_disorders.csv\",index=False)\n"
   ]
  },
  {
   "cell_type": "code",
   "execution_count": 8,
   "metadata": {},
   "outputs": [
    {
     "name": "stdout",
     "output_type": "stream",
     "text": [
      "22083\n",
      "26\n"
     ]
    }
   ],
   "source": [
    "data= pd.read_csv(r\"/home/vedant/Genome/Genome_Prediction/Selected_data/train_genetic_disorders.csv\")\n",
    "\n",
    "print(len(data))\n",
    "print(len(data.columns))"
   ]
  },
  {
   "cell_type": "markdown",
   "metadata": {},
   "source": [
    "FOR TEST DATA"
   ]
  },
  {
   "cell_type": "code",
   "execution_count": 20,
   "metadata": {},
   "outputs": [
    {
     "name": "stdout",
     "output_type": "stream",
     "text": [
      "9463\n"
     ]
    }
   ],
   "source": [
    "data= pd.read_csv(r\"/home/vedant/Genome/Genome_Prediction/Original_Data/test_genetic_disorders.csv\")\n",
    "\n",
    "print(len(data))"
   ]
  },
  {
   "cell_type": "code",
   "execution_count": 21,
   "metadata": {},
   "outputs": [
    {
     "ename": "KeyError",
     "evalue": "\"['Genetic_Disorder', 'Disorder_Subclass'] not in index\"",
     "output_type": "error",
     "traceback": [
      "\u001b[0;31m---------------------------------------------------------------------------\u001b[0m",
      "\u001b[0;31mKeyError\u001b[0m                                  Traceback (most recent call last)",
      "Cell \u001b[0;32mIn[21], line 46\u001b[0m\n\u001b[1;32m     37\u001b[0m \u001b[38;5;66;03m# Select only the specified columns\u001b[39;00m\n\u001b[1;32m     38\u001b[0m columns_to_keep \u001b[38;5;241m=\u001b[39m [\n\u001b[1;32m     39\u001b[0m     \u001b[38;5;124m'\u001b[39m\u001b[38;5;124mPatient_Age\u001b[39m\u001b[38;5;124m'\u001b[39m, \u001b[38;5;124m'\u001b[39m\u001b[38;5;124mGenes_in_mother\u001b[39m\u001b[38;5;124m'\u001b[39m, \u001b[38;5;124m'\u001b[39m\u001b[38;5;124mInherited_from_father\u001b[39m\u001b[38;5;124m'\u001b[39m, \u001b[38;5;124m'\u001b[39m\u001b[38;5;124mMaternal_gene\u001b[39m\u001b[38;5;124m'\u001b[39m,\n\u001b[1;32m     40\u001b[0m     \u001b[38;5;124m'\u001b[39m\u001b[38;5;124mPaternal_gene\u001b[39m\u001b[38;5;124m'\u001b[39m, \u001b[38;5;124m'\u001b[39m\u001b[38;5;124mStatus\u001b[39m\u001b[38;5;124m'\u001b[39m, \u001b[38;5;124m'\u001b[39m\u001b[38;5;124mRespiratory_Rate\u001b[39m\u001b[38;5;124m'\u001b[39m, \u001b[38;5;124m'\u001b[39m\u001b[38;5;124mHeart_Rate\u001b[39m\u001b[38;5;124m'\u001b[39m, \u001b[38;5;124m'\u001b[39m\u001b[38;5;124mFollow_up\u001b[39m\u001b[38;5;124m'\u001b[39m, \n\u001b[0;32m   (...)\u001b[0m\n\u001b[1;32m     44\u001b[0m     \u001b[38;5;124m'\u001b[39m\u001b[38;5;124mBirth_defects\u001b[39m\u001b[38;5;124m'\u001b[39m, \u001b[38;5;124m'\u001b[39m\u001b[38;5;124mBlood_test_result\u001b[39m\u001b[38;5;124m'\u001b[39m, \u001b[38;5;124m'\u001b[39m\u001b[38;5;124mSymptom_1\u001b[39m\u001b[38;5;124m'\u001b[39m, \u001b[38;5;124m'\u001b[39m\u001b[38;5;124mSymptom_2\u001b[39m\u001b[38;5;124m'\u001b[39m, \u001b[38;5;124m'\u001b[39m\u001b[38;5;124mSymptom_3\u001b[39m\u001b[38;5;124m'\u001b[39m,\u001b[38;5;124m'\u001b[39m\u001b[38;5;124mGenetic_Disorder\u001b[39m\u001b[38;5;124m'\u001b[39m,\u001b[38;5;124m'\u001b[39m\u001b[38;5;124mDisorder_Subclass\u001b[39m\u001b[38;5;124m'\u001b[39m\n\u001b[1;32m     45\u001b[0m ]\n\u001b[0;32m---> 46\u001b[0m df \u001b[38;5;241m=\u001b[39m \u001b[43mdf\u001b[49m\u001b[43m[\u001b[49m\u001b[43mcolumns_to_keep\u001b[49m\u001b[43m]\u001b[49m\n\u001b[1;32m     48\u001b[0m \u001b[38;5;66;03m# Save the DataFrame back to the same CSV file\u001b[39;00m\n\u001b[1;32m     49\u001b[0m df\u001b[38;5;241m.\u001b[39mto_csv(\u001b[38;5;124mr\u001b[39m\u001b[38;5;124m\"\u001b[39m\u001b[38;5;124m/home/vedant/Genome/Genome_Prediction/Original_Data/test_genetic_disorders.csv\u001b[39m\u001b[38;5;124m\"\u001b[39m,index\u001b[38;5;241m=\u001b[39m\u001b[38;5;28;01mFalse\u001b[39;00m)\n",
      "File \u001b[0;32m~/Genome/Genome_Prediction/env/lib/python3.10/site-packages/pandas/core/frame.py:4108\u001b[0m, in \u001b[0;36mDataFrame.__getitem__\u001b[0;34m(self, key)\u001b[0m\n\u001b[1;32m   4106\u001b[0m     \u001b[38;5;28;01mif\u001b[39;00m is_iterator(key):\n\u001b[1;32m   4107\u001b[0m         key \u001b[38;5;241m=\u001b[39m \u001b[38;5;28mlist\u001b[39m(key)\n\u001b[0;32m-> 4108\u001b[0m     indexer \u001b[38;5;241m=\u001b[39m \u001b[38;5;28;43mself\u001b[39;49m\u001b[38;5;241;43m.\u001b[39;49m\u001b[43mcolumns\u001b[49m\u001b[38;5;241;43m.\u001b[39;49m\u001b[43m_get_indexer_strict\u001b[49m\u001b[43m(\u001b[49m\u001b[43mkey\u001b[49m\u001b[43m,\u001b[49m\u001b[43m \u001b[49m\u001b[38;5;124;43m\"\u001b[39;49m\u001b[38;5;124;43mcolumns\u001b[39;49m\u001b[38;5;124;43m\"\u001b[39;49m\u001b[43m)\u001b[49m[\u001b[38;5;241m1\u001b[39m]\n\u001b[1;32m   4110\u001b[0m \u001b[38;5;66;03m# take() does not accept boolean indexers\u001b[39;00m\n\u001b[1;32m   4111\u001b[0m \u001b[38;5;28;01mif\u001b[39;00m \u001b[38;5;28mgetattr\u001b[39m(indexer, \u001b[38;5;124m\"\u001b[39m\u001b[38;5;124mdtype\u001b[39m\u001b[38;5;124m\"\u001b[39m, \u001b[38;5;28;01mNone\u001b[39;00m) \u001b[38;5;241m==\u001b[39m \u001b[38;5;28mbool\u001b[39m:\n",
      "File \u001b[0;32m~/Genome/Genome_Prediction/env/lib/python3.10/site-packages/pandas/core/indexes/base.py:6200\u001b[0m, in \u001b[0;36mIndex._get_indexer_strict\u001b[0;34m(self, key, axis_name)\u001b[0m\n\u001b[1;32m   6197\u001b[0m \u001b[38;5;28;01melse\u001b[39;00m:\n\u001b[1;32m   6198\u001b[0m     keyarr, indexer, new_indexer \u001b[38;5;241m=\u001b[39m \u001b[38;5;28mself\u001b[39m\u001b[38;5;241m.\u001b[39m_reindex_non_unique(keyarr)\n\u001b[0;32m-> 6200\u001b[0m \u001b[38;5;28;43mself\u001b[39;49m\u001b[38;5;241;43m.\u001b[39;49m\u001b[43m_raise_if_missing\u001b[49m\u001b[43m(\u001b[49m\u001b[43mkeyarr\u001b[49m\u001b[43m,\u001b[49m\u001b[43m \u001b[49m\u001b[43mindexer\u001b[49m\u001b[43m,\u001b[49m\u001b[43m \u001b[49m\u001b[43maxis_name\u001b[49m\u001b[43m)\u001b[49m\n\u001b[1;32m   6202\u001b[0m keyarr \u001b[38;5;241m=\u001b[39m \u001b[38;5;28mself\u001b[39m\u001b[38;5;241m.\u001b[39mtake(indexer)\n\u001b[1;32m   6203\u001b[0m \u001b[38;5;28;01mif\u001b[39;00m \u001b[38;5;28misinstance\u001b[39m(key, Index):\n\u001b[1;32m   6204\u001b[0m     \u001b[38;5;66;03m# GH 42790 - Preserve name from an Index\u001b[39;00m\n",
      "File \u001b[0;32m~/Genome/Genome_Prediction/env/lib/python3.10/site-packages/pandas/core/indexes/base.py:6252\u001b[0m, in \u001b[0;36mIndex._raise_if_missing\u001b[0;34m(self, key, indexer, axis_name)\u001b[0m\n\u001b[1;32m   6249\u001b[0m     \u001b[38;5;28;01mraise\u001b[39;00m \u001b[38;5;167;01mKeyError\u001b[39;00m(\u001b[38;5;124mf\u001b[39m\u001b[38;5;124m\"\u001b[39m\u001b[38;5;124mNone of [\u001b[39m\u001b[38;5;132;01m{\u001b[39;00mkey\u001b[38;5;132;01m}\u001b[39;00m\u001b[38;5;124m] are in the [\u001b[39m\u001b[38;5;132;01m{\u001b[39;00maxis_name\u001b[38;5;132;01m}\u001b[39;00m\u001b[38;5;124m]\u001b[39m\u001b[38;5;124m\"\u001b[39m)\n\u001b[1;32m   6251\u001b[0m not_found \u001b[38;5;241m=\u001b[39m \u001b[38;5;28mlist\u001b[39m(ensure_index(key)[missing_mask\u001b[38;5;241m.\u001b[39mnonzero()[\u001b[38;5;241m0\u001b[39m]]\u001b[38;5;241m.\u001b[39munique())\n\u001b[0;32m-> 6252\u001b[0m \u001b[38;5;28;01mraise\u001b[39;00m \u001b[38;5;167;01mKeyError\u001b[39;00m(\u001b[38;5;124mf\u001b[39m\u001b[38;5;124m\"\u001b[39m\u001b[38;5;132;01m{\u001b[39;00mnot_found\u001b[38;5;132;01m}\u001b[39;00m\u001b[38;5;124m not in index\u001b[39m\u001b[38;5;124m\"\u001b[39m)\n",
      "\u001b[0;31mKeyError\u001b[0m: \"['Genetic_Disorder', 'Disorder_Subclass'] not in index\""
     ]
    }
   ],
   "source": [
    "import pandas as pd\n",
    "\n",
    "# Read the CSV file\n",
    "df= data\n",
    "\n",
    "\n",
    "# Rename the specified columns\n",
    "df.rename(columns={\n",
    "    \"Patient Age\": 'Patient_Age',\n",
    "    \"Genes in mother's side\": 'Genes_in_mother',\n",
    "    \"Inherited from father\": 'Inherited_from_father',\n",
    "    \"Maternal gene\": 'Maternal_gene',\n",
    "    \"Paternal gene\": 'Paternal_gene',\n",
    "    \"Status\": 'Status',\n",
    "    \"Respiratory Rate (breaths/min)\": 'Respiratory_Rate',\n",
    "    \"Heart Rate (rates/min\": 'Heart_Rate',\n",
    "    \"Follow-up\": 'Follow_up',\n",
    "    \"Gender\": 'Gender',\n",
    "    \"Birth asphyxia\": 'Birth_asphyxia',\n",
    "    \"Autopsy shows birth defect (if applicable)\": 'Autopsy_birth_defect',\n",
    "    \"Folic acid details (peri-conceptional)\": 'Folic_acid',\n",
    "    \"H/O serious maternal illness\": 'Serious_maternal_illness',\n",
    "    \"H/O radiation exposure (x-ray)\": 'Radiation_exposure',\n",
    "    \"H/O substance abuse\": 'Substance_abuse',\n",
    "    \"Assisted conception IVF/ART\": 'Assisted_conception',\n",
    "    \"History of anomalies in previous pregnancies\": 'Previous_pregnancy_anomalies',\n",
    "    \"No. of previous abortion\": 'No_of_abortion',\n",
    "    \"Birth defects\": 'Birth_defects',\n",
    "    \"Blood test result\": 'Blood_test_result',\n",
    "    \"Symptom 1\": 'Symptom_1',\n",
    "    \"Symptom 2\": 'Symptom_2',\n",
    "    \"Symptom 3\": 'Symptom_3',\n",
    "    \"Genetic Disorder\": \"Genetic_Disorder\",\n",
    "    \"Disorder Subclass\": \"Disorder_Subclass\"\n",
    "}, inplace=True)\n",
    "\n",
    "# Select only the specified columns\n",
    "columns_to_keep = [\n",
    "    'Patient_Age', 'Genes_in_mother', 'Inherited_from_father', 'Maternal_gene',\n",
    "    'Paternal_gene', 'Status', 'Respiratory_Rate', 'Heart_Rate', 'Follow_up', \n",
    "    'Gender', 'Birth_asphyxia', 'Autopsy_birth_defect', 'Folic_acid', \n",
    "    'Serious_maternal_illness', 'Radiation_exposure', 'Substance_abuse', \n",
    "    'Assisted_conception', 'Previous_pregnancy_anomalies', 'No_of_abortion', \n",
    "    'Birth_defects', 'Blood_test_result', 'Symptom_1', 'Symptom_2', 'Symptom_3','Genetic_Disorder','Disorder_Subclass'\n",
    "]\n",
    "df = df[columns_to_keep]\n",
    "\n",
    "# Save the DataFrame back to the same CSV file\n",
    "df.to_csv(r\"/home/vedant/Genome/Genome_Prediction/Original_Data/test_genetic_disorders.csv\",index=False)\n",
    "\n"
   ]
  },
  {
   "cell_type": "code",
   "execution_count": 11,
   "metadata": {},
   "outputs": [
    {
     "name": "stdout",
     "output_type": "stream",
     "text": [
      "22083\n",
      "26\n"
     ]
    }
   ],
   "source": [
    "data= pd.read_csv(r\"/home/vedant/Genome/Genome_Prediction/Selected_data/test_genetic_disorders.csv\")\n",
    "\n",
    "print(len(data))\n",
    "print(len(data.columns))"
   ]
  },
  {
   "cell_type": "code",
   "execution_count": 12,
   "metadata": {},
   "outputs": [
    {
     "name": "stdout",
     "output_type": "stream",
     "text": [
      "Index(['Patient_Age', 'Genes_in_mother', 'Inherited_from_father',\n",
      "       'Maternal_gene', 'Paternal_gene', 'Status', 'Respiratory_Rate',\n",
      "       'Heart_Rate', 'Follow_up', 'Gender', 'Birth_asphyxia',\n",
      "       'Autopsy_birth_defect', 'Folic_acid', 'Serious_maternal_illness',\n",
      "       'Radiation_exposure', 'Substance_abuse', 'Assisted_conception',\n",
      "       'Previous_pregnancy_anomalies', 'No_of_abortion', 'Birth_defects',\n",
      "       'Blood_test_result', 'Symptom_1', 'Symptom_2', 'Symptom_3',\n",
      "       'Genetic_Disorder', 'Disorder_Subclass'],\n",
      "      dtype='object')\n"
     ]
    }
   ],
   "source": [
    "print(data.columns)"
   ]
  },
  {
   "cell_type": "code",
   "execution_count": 14,
   "metadata": {},
   "outputs": [],
   "source": [
    "import pandas as pd\n",
    "\n",
    "data= pd.read_csv(r'/home/vedant/Genome/Genome_Prediction/Selected_data/train_genetic_disorders.csv')"
   ]
  },
  {
   "cell_type": "code",
   "execution_count": 3,
   "metadata": {},
   "outputs": [
    {
     "name": "stdout",
     "output_type": "stream",
     "text": [
      "Index(['Patient_Age', 'Genes_in_mother', 'Inherited_from_father',\n",
      "       'Maternal_gene', 'Paternal_gene', 'Status', 'Respiratory_Rate',\n",
      "       'Heart_Rate', 'Follow_up', 'Gender', 'Birth_asphyxia',\n",
      "       'Autopsy_birth_defect', 'Folic_acid', 'Serious_maternal_illness',\n",
      "       'Radiation_exposure', 'Substance_abuse', 'Assisted_conception',\n",
      "       'Previous_pregnancy_anomalies', 'No_of_abortion', 'Birth_defects',\n",
      "       'Blood_test_result', 'Symptom_1', 'Symptom_2', 'Symptom_3'],\n",
      "      dtype='object')\n"
     ]
    }
   ],
   "source": [
    "print(data.columns)"
   ]
  },
  {
   "cell_type": "code",
   "execution_count": 15,
   "metadata": {},
   "outputs": [
    {
     "data": {
      "text/plain": [
       "26"
      ]
     },
     "execution_count": 15,
     "metadata": {},
     "output_type": "execute_result"
    }
   ],
   "source": [
    "len(data.columns)"
   ]
  }
 ],
 "metadata": {
  "kernelspec": {
   "display_name": "env",
   "language": "python",
   "name": "python3"
  },
  "language_info": {
   "codemirror_mode": {
    "name": "ipython",
    "version": 3
   },
   "file_extension": ".py",
   "mimetype": "text/x-python",
   "name": "python",
   "nbconvert_exporter": "python",
   "pygments_lexer": "ipython3",
   "version": "3.10.12"
  }
 },
 "nbformat": 4,
 "nbformat_minor": 2
}
